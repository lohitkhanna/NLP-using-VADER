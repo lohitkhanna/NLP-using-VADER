{
  "nbformat": 4,
  "nbformat_minor": 0,
  "metadata": {
    "colab": {
      "name": "Untitled8.ipynb",
      "version": "0.3.2",
      "provenance": [],
      "collapsed_sections": [],
      "include_colab_link": true
    },
    "kernelspec": {
      "name": "python3",
      "display_name": "Python 3"
    }
  },
  "cells": [
    {
      "cell_type": "markdown",
      "metadata": {
        "id": "view-in-github",
        "colab_type": "text"
      },
      "source": [
        "<a href=\"https://colab.research.google.com/github/lohitkhanna/NLP-using-VADER/blob/master/Untitled8.ipynb\" target=\"_parent\"><img src=\"https://colab.research.google.com/assets/colab-badge.svg\" alt=\"Open In Colab\"/></a>"
      ]
    },
    {
      "metadata": {
        "id": "uavqvs9LvFgO",
        "colab_type": "code",
        "colab": {}
      },
      "cell_type": "code",
      "source": [
        "import tweepy\n",
        "import csv\n",
        "import json"
      ],
      "execution_count": 0,
      "outputs": []
    },
    {
      "metadata": {
        "id": "xdO4tiVAwVfu",
        "colab_type": "code",
        "colab": {}
      },
      "cell_type": "code",
      "source": [
        "# load Twitter API credentials\n",
        "\n",
        "consumer_key = \"B3q2su9kJ6MHdUASYtSa5QVYH\" \n",
        "consumer_secret = \"XMR8JKmZwrBxrwHNqaFbf4xAzmrJ8NOnc002muiD5cglTzKtqX\"\n",
        "access_token=access_key = \"297295024-XM15BgENV97H3nIAHPJ9nTjMjIshFUbzIKd7TQ0y\"\n",
        "access_token_secret=access_secret = \"Hcls6YDRXKTG7SoZDuxmvgQBsewD8pzQIaKNmZE5kp6fc\"\n"
      ],
      "execution_count": 0,
      "outputs": []
    },
    {
      "metadata": {
        "id": "vyqq_lnQy9LI",
        "colab_type": "code",
        "colab": {}
      },
      "cell_type": "code",
      "source": [
        "import numpy as np # linear algebra\n",
        "import pandas as pd # data processing, CSV file I/O (e.g. pd.read_csv)\n",
        "import matplotlib.pyplot as plt\n",
        "import seaborn as sns\n",
        "%matplotlib inline\n",
        "import nltk\n",
        "from nltk import wordpunct_tokenize\n",
        "from nltk.corpus import stopwords\n",
        "from wordcloud import WordCloud,STOPWORDS\n",
        "from nltk.stem.wordnet import WordNetLemmatizer\n",
        "from sklearn.feature_extraction.text import TfidfVectorizer, CountVectorizer\n",
        "from sklearn.decomposition import NMF, LatentDirichletAllocation\n",
        "import string\n",
        "\n",
        "import textblob as tb\n",
        "from tqdm import tqdm"
      ],
      "execution_count": 0,
      "outputs": []
    },
    {
      "metadata": {
        "id": "CSje-rGD5QFK",
        "colab_type": "code",
        "colab": {}
      },
      "cell_type": "code",
      "source": [
        "from tweepy.streaming import StreamListener\n",
        "from tweepy import OAuthHandler\n",
        "from tweepy import Stream\n"
      ],
      "execution_count": 0,
      "outputs": []
    },
    {
      "metadata": {
        "id": "Qt19SemZSvGP",
        "colab_type": "code",
        "colab": {}
      },
      "cell_type": "code",
      "source": [
        "\n",
        "# API's setup:\n",
        "def twitter_setup():\n",
        "    \"\"\"\n",
        "    Utility function to setup the Twitter's API\n",
        "    with our access keys provided.\n",
        "    \"\"\"\n",
        "    # Authentication and access using keys:\n",
        "    auth = tweepy.OAuthHandler(consumer_key, consumer_secret)\n",
        "    auth.set_access_token(access_key, access_secret)\n",
        "\n",
        "    # Return API with authentication:\n",
        "    api = tweepy.API(auth)\n",
        "    return api"
      ],
      "execution_count": 0,
      "outputs": []
    },
    {
      "metadata": {
        "id": "NU-wiOBBVG7d",
        "colab_type": "code",
        "outputId": "e329137d-3048-4092-e4cf-7185246eba19",
        "colab": {
          "base_uri": "https://localhost:8080/",
          "height": 265
        }
      },
      "cell_type": "code",
      "source": [
        "#extractor\n",
        "extractor = twitter_setup()\n",
        "\n",
        "# We create a tweet list as follows:\n",
        "tweets = extractor.user_timeline(screen_name=\"@marspetcare\", count=300)\n",
        "print(\"Number of tweets extracted: {}.\\n\".format(len(tweets)))\n",
        "\n",
        "# We print the most recent 5 tweets:\n",
        "print(\"5 recent tweets:\\n\")\n",
        "for tweet in tweets[:5]:\n",
        "    print(tweet.text)\n",
        "    print()"
      ],
      "execution_count": 6,
      "outputs": [
        {
          "output_type": "stream",
          "text": [
            "Number of tweets extracted: 195.\n",
            "\n",
            "5 recent tweets:\n",
            "\n",
            "We may look a little different, but our purpose doesn't change. We believe that working toward #ABetterWorldforPets… https://t.co/QsBQ8AHnlk\n",
            "\n",
            "At Mars Petcare, we are very lucky: we get to be inspired by our pets everyday. It's really easy to imagine a bette… https://t.co/HZrsdS1twJ\n",
            "\n",
            "Halo is part of one of America's most elite search and rescue squads, helping to keep people safe in dangerous situ… https://t.co/wn7UwOgHsw\n",
            "\n",
            "Can’t decide if you’re a cat lover or want a dog by your side? If you want a pet that’s independent and low mainten… https://t.co/mByUrDGKQD\n",
            "\n",
            "We can’t get enough of this happy, cute face! Find out what other signals show your cat is happy. 😃… https://t.co/1yCl53Ufvm\n",
            "\n"
          ],
          "name": "stdout"
        }
      ]
    },
    {
      "metadata": {
        "id": "XiXjxcmQWDGX",
        "colab_type": "code",
        "outputId": "504e4fb3-0a43-4b09-a01e-e63232597994",
        "colab": {
          "base_uri": "https://localhost:8080/",
          "height": 365
        }
      },
      "cell_type": "code",
      "source": [
        "# We will create a pandas dataframe as follows:\n",
        "data = pd.DataFrame(data=[tweet.text for tweet in tweets], columns=['Tweets'])\n",
        "\n",
        "# We display the first 10 elements of the dataframe:\n",
        "display(data.head(10))\n",
        "len(data)"
      ],
      "execution_count": 7,
      "outputs": [
        {
          "output_type": "display_data",
          "data": {
            "text/html": [
              "<div>\n",
              "<style scoped>\n",
              "    .dataframe tbody tr th:only-of-type {\n",
              "        vertical-align: middle;\n",
              "    }\n",
              "\n",
              "    .dataframe tbody tr th {\n",
              "        vertical-align: top;\n",
              "    }\n",
              "\n",
              "    .dataframe thead th {\n",
              "        text-align: right;\n",
              "    }\n",
              "</style>\n",
              "<table border=\"1\" class=\"dataframe\">\n",
              "  <thead>\n",
              "    <tr style=\"text-align: right;\">\n",
              "      <th></th>\n",
              "      <th>Tweets</th>\n",
              "    </tr>\n",
              "  </thead>\n",
              "  <tbody>\n",
              "    <tr>\n",
              "      <th>0</th>\n",
              "      <td>We may look a little different, but our purpos...</td>\n",
              "    </tr>\n",
              "    <tr>\n",
              "      <th>1</th>\n",
              "      <td>At Mars Petcare, we are very lucky: we get to ...</td>\n",
              "    </tr>\n",
              "    <tr>\n",
              "      <th>2</th>\n",
              "      <td>Halo is part of one of America's most elite se...</td>\n",
              "    </tr>\n",
              "    <tr>\n",
              "      <th>3</th>\n",
              "      <td>Can’t decide if you’re a cat lover or want a d...</td>\n",
              "    </tr>\n",
              "    <tr>\n",
              "      <th>4</th>\n",
              "      <td>We can’t get enough of this happy, cute face! ...</td>\n",
              "    </tr>\n",
              "    <tr>\n",
              "      <th>5</th>\n",
              "      <td>\"I am proud to contribute to a gender-balanced...</td>\n",
              "    </tr>\n",
              "    <tr>\n",
              "      <th>6</th>\n",
              "      <td>She's the queen of the sea who catches all the...</td>\n",
              "    </tr>\n",
              "    <tr>\n",
              "      <th>7</th>\n",
              "      <td>Happy International #WomensDay! Here's to the ...</td>\n",
              "    </tr>\n",
              "    <tr>\n",
              "      <th>8</th>\n",
              "      <td>Meet Dr. Jen Welser, Chief Medical Officer in ...</td>\n",
              "    </tr>\n",
              "    <tr>\n",
              "      <th>9</th>\n",
              "      <td>Thinking of adopting a furry friend? Each dog ...</td>\n",
              "    </tr>\n",
              "  </tbody>\n",
              "</table>\n",
              "</div>"
            ],
            "text/plain": [
              "                                              Tweets\n",
              "0  We may look a little different, but our purpos...\n",
              "1  At Mars Petcare, we are very lucky: we get to ...\n",
              "2  Halo is part of one of America's most elite se...\n",
              "3  Can’t decide if you’re a cat lover or want a d...\n",
              "4  We can’t get enough of this happy, cute face! ...\n",
              "5  \"I am proud to contribute to a gender-balanced...\n",
              "6  She's the queen of the sea who catches all the...\n",
              "7  Happy International #WomensDay! Here's to the ...\n",
              "8  Meet Dr. Jen Welser, Chief Medical Officer in ...\n",
              "9  Thinking of adopting a furry friend? Each dog ..."
            ]
          },
          "metadata": {
            "tags": []
          }
        },
        {
          "output_type": "execute_result",
          "data": {
            "text/plain": [
              "195"
            ]
          },
          "metadata": {
            "tags": []
          },
          "execution_count": 7
        }
      ]
    },
    {
      "metadata": {
        "id": "xX6J4AzDWLUu",
        "colab_type": "code",
        "outputId": "98e0a59c-8145-4114-97af-a37603094129",
        "colab": {
          "base_uri": "https://localhost:8080/",
          "height": 54
        }
      },
      "cell_type": "code",
      "source": [
        "# Internal methods of a single tweet object:\n",
        "print(dir(tweets[0]))"
      ],
      "execution_count": 8,
      "outputs": [
        {
          "output_type": "stream",
          "text": [
            "['__class__', '__delattr__', '__dict__', '__dir__', '__doc__', '__eq__', '__format__', '__ge__', '__getattribute__', '__getstate__', '__gt__', '__hash__', '__init__', '__init_subclass__', '__le__', '__lt__', '__module__', '__ne__', '__new__', '__reduce__', '__reduce_ex__', '__repr__', '__setattr__', '__sizeof__', '__str__', '__subclasshook__', '__weakref__', '_api', '_json', 'author', 'contributors', 'coordinates', 'created_at', 'destroy', 'entities', 'favorite', 'favorite_count', 'favorited', 'geo', 'id', 'id_str', 'in_reply_to_screen_name', 'in_reply_to_status_id', 'in_reply_to_status_id_str', 'in_reply_to_user_id', 'in_reply_to_user_id_str', 'is_quote_status', 'lang', 'parse', 'parse_list', 'place', 'possibly_sensitive', 'retweet', 'retweet_count', 'retweeted', 'retweets', 'source', 'source_url', 'text', 'truncated', 'user']\n"
          ],
          "name": "stdout"
        }
      ]
    },
    {
      "metadata": {
        "id": "HIqPDrQHW8J8",
        "colab_type": "code",
        "outputId": "092bdc6a-9903-4ee7-e163-1a9a3d1e1e7f",
        "colab": {
          "base_uri": "https://localhost:8080/",
          "height": 178
        }
      },
      "cell_type": "code",
      "source": [
        "# We print info from the first tweet: \n",
        "# Its in JSON\n",
        "print(tweets[0].id)\n",
        "print(tweets[0].created_at)\n",
        "print(tweets[0].source)\n",
        "print(tweets[0].favorite_count)\n",
        "print(tweets[0].retweet_count)\n",
        "print(tweets[0].geo)\n",
        "print(tweets[0].coordinates)\n",
        "print(tweets[0].entities)"
      ],
      "execution_count": 9,
      "outputs": [
        {
          "output_type": "stream",
          "text": [
            "1105476426571153409\n",
            "2019-03-12 14:31:33\n",
            "Twitter Web Client\n",
            "16\n",
            "4\n",
            "None\n",
            "None\n",
            "{'hashtags': [{'text': 'ABetterWorldforPets', 'indices': [95, 115]}], 'symbols': [], 'user_mentions': [], 'urls': [{'url': 'https://t.co/QsBQ8AHnlk', 'expanded_url': 'https://twitter.com/i/web/status/1105476426571153409', 'display_url': 'twitter.com/i/web/status/1…', 'indices': [117, 140]}]}\n"
          ],
          "name": "stdout"
        }
      ]
    },
    {
      "metadata": {
        "id": "Qq_bUbpeXmpG",
        "colab_type": "code",
        "colab": {}
      },
      "cell_type": "code",
      "source": [
        "# We add relevant data:\n",
        "data['len']  = np.array([len(tweet.text) for tweet in tweets])\n",
        "data['ID']   = np.array([tweet.id for tweet in tweets])\n",
        "data['Date'] = np.array([tweet.created_at for tweet in tweets])\n",
        "data['Source'] = np.array([tweet.source for tweet in tweets])\n",
        "data['Likes']  = np.array([tweet.favorite_count for tweet in tweets])\n",
        "data['RTs']    = np.array([tweet.retweet_count for tweet in tweets])"
      ],
      "execution_count": 0,
      "outputs": []
    },
    {
      "metadata": {
        "id": "HpxxtUZpXpsb",
        "colab_type": "code",
        "outputId": "4613b603-9683-4f07-8a21-3db77381730c",
        "colab": {
          "base_uri": "https://localhost:8080/",
          "height": 347
        }
      },
      "cell_type": "code",
      "source": [
        "data.head(10)\n",
        "# RT means Retweat)"
      ],
      "execution_count": 11,
      "outputs": [
        {
          "output_type": "execute_result",
          "data": {
            "text/html": [
              "<div>\n",
              "<style scoped>\n",
              "    .dataframe tbody tr th:only-of-type {\n",
              "        vertical-align: middle;\n",
              "    }\n",
              "\n",
              "    .dataframe tbody tr th {\n",
              "        vertical-align: top;\n",
              "    }\n",
              "\n",
              "    .dataframe thead th {\n",
              "        text-align: right;\n",
              "    }\n",
              "</style>\n",
              "<table border=\"1\" class=\"dataframe\">\n",
              "  <thead>\n",
              "    <tr style=\"text-align: right;\">\n",
              "      <th></th>\n",
              "      <th>Tweets</th>\n",
              "      <th>len</th>\n",
              "      <th>ID</th>\n",
              "      <th>Date</th>\n",
              "      <th>Source</th>\n",
              "      <th>Likes</th>\n",
              "      <th>RTs</th>\n",
              "    </tr>\n",
              "  </thead>\n",
              "  <tbody>\n",
              "    <tr>\n",
              "      <th>0</th>\n",
              "      <td>We may look a little different, but our purpos...</td>\n",
              "      <td>140</td>\n",
              "      <td>1105476426571153409</td>\n",
              "      <td>2019-03-12 14:31:33</td>\n",
              "      <td>Twitter Web Client</td>\n",
              "      <td>16</td>\n",
              "      <td>4</td>\n",
              "    </tr>\n",
              "    <tr>\n",
              "      <th>1</th>\n",
              "      <td>At Mars Petcare, we are very lucky: we get to ...</td>\n",
              "      <td>140</td>\n",
              "      <td>1105124238393044994</td>\n",
              "      <td>2019-03-11 15:12:05</td>\n",
              "      <td>Salesforce - Social Studio</td>\n",
              "      <td>4</td>\n",
              "      <td>0</td>\n",
              "    </tr>\n",
              "    <tr>\n",
              "      <th>2</th>\n",
              "      <td>Halo is part of one of America's most elite se...</td>\n",
              "      <td>140</td>\n",
              "      <td>1105045729637294080</td>\n",
              "      <td>2019-03-11 10:00:07</td>\n",
              "      <td>Salesforce - Social Studio</td>\n",
              "      <td>11</td>\n",
              "      <td>3</td>\n",
              "    </tr>\n",
              "    <tr>\n",
              "      <th>3</th>\n",
              "      <td>Can’t decide if you’re a cat lover or want a d...</td>\n",
              "      <td>140</td>\n",
              "      <td>1104947585431801856</td>\n",
              "      <td>2019-03-11 03:30:07</td>\n",
              "      <td>Salesforce - Social Studio</td>\n",
              "      <td>2</td>\n",
              "      <td>0</td>\n",
              "    </tr>\n",
              "    <tr>\n",
              "      <th>4</th>\n",
              "      <td>We can’t get enough of this happy, cute face! ...</td>\n",
              "      <td>124</td>\n",
              "      <td>1104638039538757633</td>\n",
              "      <td>2019-03-10 07:00:06</td>\n",
              "      <td>Salesforce - Social Studio</td>\n",
              "      <td>3</td>\n",
              "      <td>1</td>\n",
              "    </tr>\n",
              "    <tr>\n",
              "      <th>5</th>\n",
              "      <td>\"I am proud to contribute to a gender-balanced...</td>\n",
              "      <td>140</td>\n",
              "      <td>1104023229952335873</td>\n",
              "      <td>2019-03-08 14:17:04</td>\n",
              "      <td>Salesforce - Social Studio</td>\n",
              "      <td>4</td>\n",
              "      <td>0</td>\n",
              "    </tr>\n",
              "    <tr>\n",
              "      <th>6</th>\n",
              "      <td>She's the queen of the sea who catches all the...</td>\n",
              "      <td>144</td>\n",
              "      <td>1103988779352838144</td>\n",
              "      <td>2019-03-08 12:00:10</td>\n",
              "      <td>Salesforce - Social Studio</td>\n",
              "      <td>144</td>\n",
              "      <td>46</td>\n",
              "    </tr>\n",
              "    <tr>\n",
              "      <th>7</th>\n",
              "      <td>Happy International #WomensDay! Here's to the ...</td>\n",
              "      <td>134</td>\n",
              "      <td>1103958584717656066</td>\n",
              "      <td>2019-03-08 10:00:11</td>\n",
              "      <td>Salesforce - Social Studio</td>\n",
              "      <td>3</td>\n",
              "      <td>0</td>\n",
              "    </tr>\n",
              "    <tr>\n",
              "      <th>8</th>\n",
              "      <td>Meet Dr. Jen Welser, Chief Medical Officer in ...</td>\n",
              "      <td>140</td>\n",
              "      <td>1103613030875713536</td>\n",
              "      <td>2019-03-07 11:07:05</td>\n",
              "      <td>Salesforce - Social Studio</td>\n",
              "      <td>6</td>\n",
              "      <td>0</td>\n",
              "    </tr>\n",
              "    <tr>\n",
              "      <th>9</th>\n",
              "      <td>Thinking of adopting a furry friend? Each dog ...</td>\n",
              "      <td>140</td>\n",
              "      <td>1103490498273132545</td>\n",
              "      <td>2019-03-07 03:00:11</td>\n",
              "      <td>Salesforce - Social Studio</td>\n",
              "      <td>4</td>\n",
              "      <td>0</td>\n",
              "    </tr>\n",
              "  </tbody>\n",
              "</table>\n",
              "</div>"
            ],
            "text/plain": [
              "                                              Tweets  len  \\\n",
              "0  We may look a little different, but our purpos...  140   \n",
              "1  At Mars Petcare, we are very lucky: we get to ...  140   \n",
              "2  Halo is part of one of America's most elite se...  140   \n",
              "3  Can’t decide if you’re a cat lover or want a d...  140   \n",
              "4  We can’t get enough of this happy, cute face! ...  124   \n",
              "5  \"I am proud to contribute to a gender-balanced...  140   \n",
              "6  She's the queen of the sea who catches all the...  144   \n",
              "7  Happy International #WomensDay! Here's to the ...  134   \n",
              "8  Meet Dr. Jen Welser, Chief Medical Officer in ...  140   \n",
              "9  Thinking of adopting a furry friend? Each dog ...  140   \n",
              "\n",
              "                    ID                Date                      Source  Likes  \\\n",
              "0  1105476426571153409 2019-03-12 14:31:33          Twitter Web Client     16   \n",
              "1  1105124238393044994 2019-03-11 15:12:05  Salesforce - Social Studio      4   \n",
              "2  1105045729637294080 2019-03-11 10:00:07  Salesforce - Social Studio     11   \n",
              "3  1104947585431801856 2019-03-11 03:30:07  Salesforce - Social Studio      2   \n",
              "4  1104638039538757633 2019-03-10 07:00:06  Salesforce - Social Studio      3   \n",
              "5  1104023229952335873 2019-03-08 14:17:04  Salesforce - Social Studio      4   \n",
              "6  1103988779352838144 2019-03-08 12:00:10  Salesforce - Social Studio    144   \n",
              "7  1103958584717656066 2019-03-08 10:00:11  Salesforce - Social Studio      3   \n",
              "8  1103613030875713536 2019-03-07 11:07:05  Salesforce - Social Studio      6   \n",
              "9  1103490498273132545 2019-03-07 03:00:11  Salesforce - Social Studio      4   \n",
              "\n",
              "   RTs  \n",
              "0    4  \n",
              "1    0  \n",
              "2    3  \n",
              "3    0  \n",
              "4    1  \n",
              "5    0  \n",
              "6   46  \n",
              "7    0  \n",
              "8    0  \n",
              "9    0  "
            ]
          },
          "metadata": {
            "tags": []
          },
          "execution_count": 11
        }
      ]
    },
    {
      "metadata": {
        "id": "VGutgifMYHxV",
        "colab_type": "code",
        "outputId": "291c46a4-a0e8-4fca-ac52-444fe294ccb5",
        "colab": {
          "base_uri": "https://localhost:8080/",
          "height": 34
        }
      },
      "cell_type": "code",
      "source": [
        "# We extract the mean of lenghts:\n",
        "mean = np.mean(data['len'])\n",
        "\n",
        "print(\"The average length of tweets: {}\".format(mean))"
      ],
      "execution_count": 12,
      "outputs": [
        {
          "output_type": "stream",
          "text": [
            "The average length of tweets: 135.6051282051282\n"
          ],
          "name": "stdout"
        }
      ]
    },
    {
      "metadata": {
        "id": "Xpeys3sPXsES",
        "colab_type": "code",
        "outputId": "03aa8d55-6ad5-4af1-86a8-e7e2b9ff4c21",
        "colab": {
          "base_uri": "https://localhost:8080/",
          "height": 105
        }
      },
      "cell_type": "code",
      "source": [
        "# We extract the tweet with more FAVs and more RTs:\n",
        "\n",
        "fav_max = np.max(data['Likes'])\n",
        "rt_max  = np.max(data['RTs'])\n",
        "\n",
        "fav = data[data.Likes == fav_max].index[0]\n",
        "rt  = data[data.RTs == rt_max].index[0]\n",
        "\n",
        "# Max FAVs:\n",
        "print(\"The tweet with more likes is: \\n{}\".format(data['Tweets'][fav]))\n",
        "print(\"Number of likes: {}\".format(fav_max))\n",
        "print(\"{} characters.\\n\".format(data['len'][fav]))"
      ],
      "execution_count": 13,
      "outputs": [
        {
          "output_type": "stream",
          "text": [
            "The tweet with more likes is: \n",
            "We know that all #pets have #superpowers, that’s why we’re sponsoring the @SuperpowerDogs movie. Tell us what superpowers your pet has:\n",
            "Number of likes: 1139\n",
            "135 characters.\n",
            "\n"
          ],
          "name": "stdout"
        }
      ]
    },
    {
      "metadata": {
        "id": "YFL8vXZ8Yvln",
        "colab_type": "code",
        "outputId": "a06c06ca-f230-4312-9155-1e6eba143906",
        "colab": {
          "base_uri": "https://localhost:8080/",
          "height": 105
        }
      },
      "cell_type": "code",
      "source": [
        "# Max RTs:\n",
        "print(\"The tweet with more retweets is: \\n{}\".format(data['Tweets'][rt]))\n",
        "print(\"Number of retweets: {}\".format(rt_max))\n",
        "print(\"{} characters.\\n\".format(data['len'][rt]))\n"
      ],
      "execution_count": 14,
      "outputs": [
        {
          "output_type": "stream",
          "text": [
            "The tweet with more retweets is: \n",
            "RT @VCAPetHealth: To help families affected by wildfires, our hospitals in Ventura and LA Counties are offering free boarding for pets. Mor…\n",
            "Number of retweets: 3500\n",
            "140 characters.\n",
            "\n"
          ],
          "name": "stdout"
        }
      ]
    },
    {
      "metadata": {
        "id": "3I8PZpWaZFj6",
        "colab_type": "code",
        "outputId": "3fcf76f7-f102-4fea-829d-d4ac4c60d1f2",
        "colab": {
          "base_uri": "https://localhost:8080/",
          "height": 274
        }
      },
      "cell_type": "code",
      "source": [
        "# We create time series for data:\n",
        "\n",
        "tlen = pd.Series(data=data['len'].values, index=data['Date'])\n",
        "tfav = pd.Series(data=data['Likes'].values, index=data['Date'])\n",
        "tret = pd.Series(data=data['RTs'].values, index=data['Date'])\n",
        "# Lenghts along time:\n",
        "tlen.plot(figsize=(16,4), color='r');\n",
        "\n"
      ],
      "execution_count": 15,
      "outputs": [
        {
          "output_type": "display_data",
          "data": {
            "image/png": "[encoded data removed]",
            "text/plain": [
              "<Figure size 1152x288 with 1 Axes>"
            ]
          },
          "metadata": {
            "tags": []
          }
        }
      ]
    },
    {
      "metadata": {
        "id": "2ph5GrbJaHnv",
        "colab_type": "code",
        "outputId": "a00950a9-cdf0-4063-8bd8-a3d8f42dde05",
        "colab": {
          "base_uri": "https://localhost:8080/",
          "height": 274
        }
      },
      "cell_type": "code",
      "source": [
        "tret.plot(figsize=(16,4), color='g');"
      ],
      "execution_count": 0,
      "outputs": [
        {
          "output_type": "display_data",
          "data": {
            "image/png": "[encoded data removed]",
            "text/plain": [
              "<Figure size 1152x288 with 1 Axes>"
            ]
          },
          "metadata": {
            "tags": []
          }
        }
      ]
    },
    {
      "metadata": {
        "id": "H6FYGQVAZ3tP",
        "colab_type": "code",
        "outputId": "beea422c-c045-4ba5-e22e-aa4a2a94d06e",
        "colab": {
          "base_uri": "https://localhost:8080/",
          "height": 274
        }
      },
      "cell_type": "code",
      "source": [
        "tfav.plot(figsize=(16,4), color='b');"
      ],
      "execution_count": 0,
      "outputs": [
        {
          "output_type": "display_data",
          "data": {
            "image/png": "[encoded data removed]",
            "text/plain": [
              "<Figure size 1152x288 with 1 Axes>"
            ]
          },
          "metadata": {
            "tags": []
          }
        }
      ]
    },
    {
      "metadata": {
        "id": "dPdaBfoXiHml",
        "colab_type": "code",
        "outputId": "cc8820cc-123a-4cf8-db8d-787117a2ec1e",
        "colab": {
          "base_uri": "https://localhost:8080/",
          "height": 141
        }
      },
      "cell_type": "code",
      "source": [
        "# Check Sources of data\n",
        "sources = []\n",
        "for source in data['Source']:\n",
        "    if source not in sources:\n",
        "        sources.append(source)\n",
        "\n",
        "# We print sources list:\n",
        "print(\"Creation of content sources:\")\n",
        "for source in sources:\n",
        "    print(\"* {}\".format(source))"
      ],
      "execution_count": 16,
      "outputs": [
        {
          "output_type": "stream",
          "text": [
            "Creation of content sources:\n",
            "* Twitter Web Client\n",
            "* Salesforce - Social Studio\n",
            "* Twitter for iPhone\n",
            "* Hootsuite Inc.\n",
            "* TweetDeck\n",
            "* Hootsuite\n"
          ],
          "name": "stdout"
        }
      ]
    },
    {
      "metadata": {
        "id": "kyZTuxgAjOws",
        "colab_type": "code",
        "outputId": "c4c803d1-3ad1-43a3-8f51-18bc66dde4d0",
        "colab": {
          "base_uri": "https://localhost:8080/",
          "height": 356
        }
      },
      "cell_type": "code",
      "source": [
        "# We create a numpy vector mapped to labels:\n",
        "percent = np.zeros(len(sources))\n",
        "\n",
        "for source in data['Source']:\n",
        "    for index in range(len(sources)):\n",
        "        if source == sources[index]:\n",
        "            percent[index] += 1\n",
        "            pass\n",
        "\n",
        "percent /= 100\n",
        "\n",
        "# Pie chart:\n",
        "pie_chart = pd.Series(percent, index=sources, name='Sources')\n",
        "pie_chart.plot.pie(fontsize=11, autopct='%.2f', figsize=(6, 6));"
      ],
      "execution_count": 17,
      "outputs": [
        {
          "output_type": "display_data",
          "data": {
            "image/png": "[encoded data removed]",
            "text/plain": [
              "<Figure size 432x432 with 1 Axes>"
            ]
          },
          "metadata": {
            "tags": []
          }
        }
      ]
    },
    {
      "metadata": {
        "id": "FXt59ZSB40If",
        "colab_type": "code",
        "outputId": "8f234060-ecc4-453b-8533-55a475e83b1b",
        "colab": {
          "base_uri": "https://localhost:8080/",
          "height": 90
        }
      },
      "cell_type": "code",
      "source": [
        "import nltk\n",
        "nltk.download('vader_lexicon')\n",
        "from nltk.sentiment.vader import SentimentIntensityAnalyzer \n",
        "analyser = SentimentIntensityAnalyzer()"
      ],
      "execution_count": 18,
      "outputs": [
        {
          "output_type": "stream",
          "text": [
            "[nltk_data] Downloading package vader_lexicon to /root/nltk_data...\n"
          ],
          "name": "stdout"
        },
        {
          "output_type": "stream",
          "text": [
            "/usr/local/lib/python3.6/dist-packages/nltk/twitter/__init__.py:20: UserWarning: The twython library has not been installed. Some functionality from the twitter package will not be available.\n",
            "  warnings.warn(\"The twython library has not been installed. \"\n"
          ],
          "name": "stderr"
        }
      ]
    },
    {
      "metadata": {
        "id": "WQHgAI8D40LX",
        "colab_type": "code",
        "colab": {}
      },
      "cell_type": "code",
      "source": [
        "# defining function\n",
        "def sentiment_analyzer_scores(sentence):\n",
        "    score = analyser.polarity_scores(sentence)\n",
        "    print(float(score['compound']))"
      ],
      "execution_count": 0,
      "outputs": []
    },
    {
      "metadata": {
        "id": "Cg3GjBxn40OI",
        "colab_type": "code",
        "outputId": "8d240aaa-8ff7-439e-d15f-cd3a3ed6c947",
        "colab": {
          "base_uri": "https://localhost:8080/",
          "height": 34
        }
      },
      "cell_type": "code",
      "source": [
        "# Example\n",
        "sentiment_analyzer_scores('The food is great')"
      ],
      "execution_count": 20,
      "outputs": [
        {
          "output_type": "stream",
          "text": [
            "0.6249\n"
          ],
          "name": "stdout"
        }
      ]
    },
    {
      "metadata": {
        "id": "cU7fVA198ZEN",
        "colab_type": "code",
        "outputId": "46c218a1-c52f-4e37-8a17-cbaaaf706819",
        "colab": {
          "base_uri": "https://localhost:8080/",
          "height": 34
        }
      },
      "cell_type": "code",
      "source": [
        "# Example\n",
        "sentiment_analyzer_scores('The food is GREAT')"
      ],
      "execution_count": 0,
      "outputs": [
        {
          "output_type": "stream",
          "text": [
            "0.7034\n"
          ],
          "name": "stdout"
        }
      ]
    },
    {
      "metadata": {
        "id": "8o-VM8Gc8gq9",
        "colab_type": "code",
        "outputId": "c359198b-18c5-48b2-9bb5-222e0f73ec06",
        "colab": {
          "base_uri": "https://localhost:8080/",
          "height": 34
        }
      },
      "cell_type": "code",
      "source": [
        "# Example Conjunctions:\n",
        "sentiment_analyzer_scores('he is irregular in class but he is not bad')"
      ],
      "execution_count": 0,
      "outputs": [
        {
          "output_type": "stream",
          "text": [
            "he is irregular in class but he is not bad {'neg': 0.0, 'neu': 0.705, 'pos': 0.295, 'compound': 0.5824}\n"
          ],
          "name": "stdout"
        }
      ]
    },
    {
      "metadata": {
        "id": "dB1sGjj78ww0",
        "colab_type": "code",
        "outputId": "8ccd8e25-f50c-461a-c328-8bb6d722feff",
        "colab": {
          "base_uri": "https://localhost:8080/",
          "height": 52
        }
      },
      "cell_type": "code",
      "source": [
        "# Example handling emojis:\n",
        "print(sentiment_analyzer_scores('I am :-) today'))"
      ],
      "execution_count": 0,
      "outputs": [
        {
          "output_type": "stream",
          "text": [
            "I am :-) today-------------------------- {'neg': 0.0, 'neu': 0.465, 'pos': 0.535, 'compound': 0.3182}\n",
            "None\n"
          ],
          "name": "stdout"
        }
      ]
    },
    {
      "metadata": {
        "id": "olJiqprY9Adt",
        "colab_type": "code",
        "outputId": "3ffce721-a14e-456d-8218-0a17a1eeeb71",
        "colab": {
          "base_uri": "https://localhost:8080/",
          "height": 52
        }
      },
      "cell_type": "code",
      "source": [
        "# slangs\n",
        "print(sentiment_analyzer_scores(\"Today SUX!\"))"
      ],
      "execution_count": 0,
      "outputs": [
        {
          "output_type": "stream",
          "text": [
            "Today SUX!------------------------------ {'neg': 0.779, 'neu': 0.221, 'pos': 0.0, 'compound': -0.5461}\n",
            "None\n"
          ],
          "name": "stdout"
        }
      ]
    },
    {
      "metadata": {
        "id": "p7KOYrAxLjUO",
        "colab_type": "code",
        "colab": {}
      },
      "cell_type": "code",
      "source": [
        "data = data.reindex(columns = np.append( data.columns.values, ['score']))\n"
      ],
      "execution_count": 0,
      "outputs": []
    },
    {
      "metadata": {
        "id": "qDbIqnGWMMKA",
        "colab_type": "code",
        "outputId": "32792ca8-94fa-4341-f2f9-4b0458e0f915",
        "colab": {
          "base_uri": "https://localhost:8080/",
          "height": 34
        }
      },
      "cell_type": "code",
      "source": [
        "list(data.columns.values)"
      ],
      "execution_count": 21,
      "outputs": [
        {
          "output_type": "execute_result",
          "data": {
            "text/plain": [
              "['Tweets', 'len', 'ID', 'Date', 'Source', 'Likes', 'RTs']"
            ]
          },
          "metadata": {
            "tags": []
          },
          "execution_count": 21
        }
      ]
    },
    {
      "metadata": {
        "id": "FaJmW2hg9XcT",
        "colab_type": "code",
        "outputId": "d97e83ec-de9b-406f-9ad2-681db2877d28",
        "colab": {
          "base_uri": "https://localhost:8080/",
          "height": 3483
        }
      },
      "cell_type": "code",
      "source": [
        "A =data['Tweets'].apply(lambda x: sentiment_analyzer_scores(x) ) \n"
      ],
      "execution_count": 22,
      "outputs": [
        {
          "output_type": "stream",
          "text": [
            "0.0\n",
            "0.8586\n",
            "0.6486\n",
            "0.5106\n",
            "0.9192\n",
            "0.4767\n",
            "0.0\n",
            "0.784\n",
            "0.0\n",
            "0.4939\n",
            "0.0\n",
            "0.4939\n",
            "0.8585\n",
            "0.5049\n",
            "0.4926\n",
            "0.5106\n",
            "0.9382\n",
            "0.5267\n",
            "0.1901\n",
            "0.6369\n",
            "0.7964\n",
            "0.6808\n",
            "0.6705\n",
            "0.8442\n",
            "0.0258\n",
            "0.4404\n",
            "0.8979\n",
            "0.0\n",
            "0.5859\n",
            "0.7717\n",
            "0.25\n",
            "0.8402\n",
            "0.8313\n",
            "0.3595\n",
            "-0.4215\n",
            "0.6369\n",
            "0.4939\n",
            "0.5106\n",
            "-0.6705\n",
            "0.3164\n",
            "0.7712\n",
            "0.0\n",
            "-0.1779\n",
            "0.6124\n",
            "-0.34\n",
            "0.4577\n",
            "0.0\n",
            "0.0\n",
            "0.5859\n",
            "0.0\n",
            "-0.0772\n",
            "0.8353\n",
            "0.2023\n",
            "0.6696\n",
            "0.0\n",
            "0.6808\n",
            "0.1154\n",
            "0.6588\n",
            "0.0\n",
            "0.4926\n",
            "0.128\n",
            "0.9474\n",
            "-0.3612\n",
            "0.6908\n",
            "0.8881\n",
            "0.0\n",
            "0.5983\n",
            "0.296\n",
            "0.5719\n",
            "0.807\n",
            "0.8402\n",
            "0.0\n",
            "0.0\n",
            "0.2732\n",
            "0.1531\n",
            "0.0\n",
            "-0.3802\n",
            "0.7096\n",
            "-0.4501\n",
            "0.2732\n",
            "0.0\n",
            "0.5411\n",
            "0.2928\n",
            "0.5106\n",
            "0.5994\n",
            "0.0\n",
            "0.4588\n",
            "0.8442\n",
            "0.7421\n",
            "0.5093\n",
            "0.659\n",
            "0.6369\n",
            "0.7609\n",
            "-0.1316\n",
            "0.0\n",
            "0.7003\n",
            "0.8889\n",
            "0.4215\n",
            "0.6597\n",
            "0.631\n",
            "0.0\n",
            "0.8156\n",
            "0.8356\n",
            "0.4019\n",
            "0.796\n",
            "0.0\n",
            "0.7003\n",
            "0.7003\n",
            "0.8442\n",
            "0.743\n",
            "0.7783\n",
            "-0.5512\n",
            "0.836\n",
            "0.0\n",
            "0.0258\n",
            "-0.4215\n",
            "0.5837\n",
            "0.2023\n",
            "0.7595\n",
            "0.3595\n",
            "-0.1027\n",
            "0.6597\n",
            "0.4767\n",
            "0.7717\n",
            "0.296\n",
            "-0.0516\n",
            "0.743\n",
            "0.5562\n",
            "0.8555\n",
            "0.888\n",
            "0.8481\n",
            "0.4019\n",
            "0.0\n",
            "0.6249\n",
            "0.5859\n",
            "0.3818\n",
            "-0.4696\n",
            "0.4019\n",
            "0.0\n",
            "0.5719\n",
            "0.1027\n",
            "-0.3412\n",
            "0.636\n",
            "0.0\n",
            "0.4404\n",
            "0.0\n",
            "0.2732\n",
            "0.5093\n",
            "0.7003\n",
            "0.128\n",
            "0.4926\n",
            "0.25\n",
            "0.784\n",
            "-0.4019\n",
            "0.7351\n",
            "0.5267\n",
            "0.4404\n",
            "0.0\n",
            "0.0\n",
            "0.0\n",
            "0.7717\n",
            "0.4939\n",
            "0.6124\n",
            "0.6249\n",
            "0.4019\n",
            "-0.2732\n",
            "0.0\n",
            "0.9246\n",
            "-0.2401\n",
            "0.5719\n",
            "0.6114\n",
            "0.4404\n",
            "0.0\n",
            "0.7603\n",
            "0.6249\n",
            "-0.2732\n",
            "0.4767\n",
            "0.5983\n",
            "0.3182\n",
            "0.3612\n",
            "-0.4767\n",
            "0.3182\n",
            "0.0\n",
            "0.8267\n",
            "0.6369\n",
            "0.0\n",
            "0.8393\n",
            "0.6249\n",
            "0.6249\n",
            "-0.0772\n",
            "0.6597\n",
            "0.7371\n",
            "0.2732\n",
            "-0.5938\n",
            "-0.2975\n"
          ],
          "name": "stdout"
        }
      ]
    },
    {
      "metadata": {
        "id": "zE90iB32icuY",
        "colab_type": "code",
        "colab": {}
      },
      "cell_type": "code",
      "source": [
        "# Creating seperate list\n",
        "tweet = []\n",
        "vs_compound = []\n",
        "Date=[]\n",
        "source=[]\n",
        "length =[]\n",
        "Retweets =[]\n",
        "number_likes=[]\n",
        "vs_pos = []\n",
        "vs_neu = []\n",
        "vs_neg = []"
      ],
      "execution_count": 0,
      "outputs": []
    },
    {
      "metadata": {
        "id": "ckuY8i9RZZn0",
        "colab_type": "code",
        "colab": {}
      },
      "cell_type": "code",
      "source": [
        "# Set up your authorisations\n",
        "auth = tweepy.OAuthHandler(consumer_key, consumer_secret)\n",
        "auth.set_access_token(access_key, access_secret)\n",
        "\n",
        "# Set up API call\n",
        "api = tweepy.API(auth, parser = tweepy.parsers.JSONParser())\n"
      ],
      "execution_count": 0,
      "outputs": []
    },
    {
      "metadata": {
        "id": "ZkibtaDnmBBR",
        "colab_type": "code",
        "outputId": "ccf0b855-d094-4fc6-8b4a-42c33ac37814",
        "colab": {
          "base_uri": "https://localhost:8080/",
          "height": 52
        }
      },
      "cell_type": "code",
      "source": [
        "import nltk\n",
        "nltk.download('vader_lexicon')\n",
        "from nltk.sentiment.vader import SentimentIntensityAnalyzer \n",
        "analyser = SentimentIntensityAnalyzer()"
      ],
      "execution_count": 25,
      "outputs": [
        {
          "output_type": "stream",
          "text": [
            "[nltk_data] Downloading package vader_lexicon to /root/nltk_data...\n",
            "[nltk_data]   Package vader_lexicon is already up-to-date!\n"
          ],
          "name": "stdout"
        }
      ]
    },
    {
      "metadata": {
        "id": "mAk1YTctmlHg",
        "colab_type": "code",
        "outputId": "49c9b758-e394-4adb-e8ca-cc23cc2a777c",
        "colab": {
          "base_uri": "https://localhost:8080/",
          "height": 34
        }
      },
      "cell_type": "code",
      "source": [
        "analyser.polarity_scores(\" He likes travelling\")"
      ],
      "execution_count": 26,
      "outputs": [
        {
          "output_type": "execute_result",
          "data": {
            "text/plain": [
              "{'compound': 0.4215, 'neg': 0.0, 'neu': 0.417, 'pos': 0.583}"
            ]
          },
          "metadata": {
            "tags": []
          },
          "execution_count": 26
        }
      ]
    },
    {
      "metadata": {
        "id": "Y-dkNejLU5p3",
        "colab_type": "code",
        "colab": {}
      },
      "cell_type": "code",
      "source": [
        "for i in range(0, len(data)):\n",
        "    tweet.append(data['Tweets'][i])\n",
        "    Date.append(data['Date'][i])\n",
        "    source.append(data['Source'][i])\n",
        "    length.append(data['len'][i])\n",
        "    number_likes.append(data['Likes'][i])\n",
        "    Retweets.append(data['RTs'][i])\n",
        "    vs_compound.append(analyser.polarity_scores(data['Tweets'][i])['compound'])\n",
        "    vs_pos.append(analyser.polarity_scores(data['Tweets'][i])['pos'])\n",
        "    vs_neu.append(analyser.polarity_scores(data['Tweets'][i])['neu'])\n",
        "    vs_neg.append(analyser.polarity_scores(data['Tweets'][i])['neg'])\n",
        "# len\tID\tDate\tSource\tLikes\tRTs\n",
        "# Date=[]\n",
        "# source=[]\n",
        "# length =[]\n",
        "# Retweets =[]\n",
        "# number_likes=[]"
      ],
      "execution_count": 0,
      "outputs": []
    },
    {
      "metadata": {
        "id": "BIR5LxBsY8JL",
        "colab_type": "code",
        "outputId": "87a191ed-d11e-4353-ce56-9b2ffb1af824",
        "colab": {
          "base_uri": "https://localhost:8080/",
          "height": 197
        }
      },
      "cell_type": "code",
      "source": [
        "from pandas import Series, DataFrame\n",
        "\n",
        "twitter_df = DataFrame({'Tweet': tweet,\n",
        "                        'Date' : Date,\n",
        "                        'Source' : source,\n",
        "                        'Length' : length,\n",
        "                        'No_Retweets': Retweets,\n",
        "                        'Likes Count': number_likes,\n",
        "                        'Compound score': vs_compound,\n",
        "                        'Positive': vs_pos,\n",
        "                        'Neutral': vs_neu,\n",
        "                        'Negative': vs_neg})\n",
        "twitter_df = twitter_df[['Tweet','Date','Source','Length','No_Retweets','Likes Count','Compound score',\n",
        "                         'Positive', 'Neutral', 'Negative']]\n",
        "\n",
        "# Have a look at the top 5 results.\n",
        "twitter_df.head()"
      ],
      "execution_count": 29,
      "outputs": [
        {
          "output_type": "execute_result",
          "data": {
            "text/html": [
              "<div>\n",
              "<style scoped>\n",
              "    .dataframe tbody tr th:only-of-type {\n",
              "        vertical-align: middle;\n",
              "    }\n",
              "\n",
              "    .dataframe tbody tr th {\n",
              "        vertical-align: top;\n",
              "    }\n",
              "\n",
              "    .dataframe thead th {\n",
              "        text-align: right;\n",
              "    }\n",
              "</style>\n",
              "<table border=\"1\" class=\"dataframe\">\n",
              "  <thead>\n",
              "    <tr style=\"text-align: right;\">\n",
              "      <th></th>\n",
              "      <th>Tweet</th>\n",
              "      <th>Date</th>\n",
              "      <th>Source</th>\n",
              "      <th>Length</th>\n",
              "      <th>No_Retweets</th>\n",
              "      <th>Likes Count</th>\n",
              "      <th>Compound score</th>\n",
              "      <th>Positive</th>\n",
              "      <th>Neutral</th>\n",
              "      <th>Negative</th>\n",
              "    </tr>\n",
              "  </thead>\n",
              "  <tbody>\n",
              "    <tr>\n",
              "      <th>0</th>\n",
              "      <td>We may look a little different, but our purpos...</td>\n",
              "      <td>2019-03-12 14:31:33</td>\n",
              "      <td>Twitter Web Client</td>\n",
              "      <td>140</td>\n",
              "      <td>4</td>\n",
              "      <td>16</td>\n",
              "      <td>0.0000</td>\n",
              "      <td>0.000</td>\n",
              "      <td>1.000</td>\n",
              "      <td>0.000</td>\n",
              "    </tr>\n",
              "    <tr>\n",
              "      <th>1</th>\n",
              "      <td>At Mars Petcare, we are very lucky: we get to ...</td>\n",
              "      <td>2019-03-11 15:12:05</td>\n",
              "      <td>Salesforce - Social Studio</td>\n",
              "      <td>140</td>\n",
              "      <td>0</td>\n",
              "      <td>4</td>\n",
              "      <td>0.8586</td>\n",
              "      <td>0.322</td>\n",
              "      <td>0.678</td>\n",
              "      <td>0.000</td>\n",
              "    </tr>\n",
              "    <tr>\n",
              "      <th>2</th>\n",
              "      <td>Halo is part of one of America's most elite se...</td>\n",
              "      <td>2019-03-11 10:00:07</td>\n",
              "      <td>Salesforce - Social Studio</td>\n",
              "      <td>140</td>\n",
              "      <td>3</td>\n",
              "      <td>11</td>\n",
              "      <td>0.6486</td>\n",
              "      <td>0.285</td>\n",
              "      <td>0.610</td>\n",
              "      <td>0.105</td>\n",
              "    </tr>\n",
              "    <tr>\n",
              "      <th>3</th>\n",
              "      <td>Can’t decide if you’re a cat lover or want a d...</td>\n",
              "      <td>2019-03-11 03:30:07</td>\n",
              "      <td>Salesforce - Social Studio</td>\n",
              "      <td>140</td>\n",
              "      <td>0</td>\n",
              "      <td>2</td>\n",
              "      <td>0.5106</td>\n",
              "      <td>0.242</td>\n",
              "      <td>0.679</td>\n",
              "      <td>0.079</td>\n",
              "    </tr>\n",
              "    <tr>\n",
              "      <th>4</th>\n",
              "      <td>We can’t get enough of this happy, cute face! ...</td>\n",
              "      <td>2019-03-10 07:00:06</td>\n",
              "      <td>Salesforce - Social Studio</td>\n",
              "      <td>124</td>\n",
              "      <td>1</td>\n",
              "      <td>3</td>\n",
              "      <td>0.9192</td>\n",
              "      <td>0.401</td>\n",
              "      <td>0.599</td>\n",
              "      <td>0.000</td>\n",
              "    </tr>\n",
              "  </tbody>\n",
              "</table>\n",
              "</div>"
            ],
            "text/plain": [
              "                                               Tweet                Date  \\\n",
              "0  We may look a little different, but our purpos... 2019-03-12 14:31:33   \n",
              "1  At Mars Petcare, we are very lucky: we get to ... 2019-03-11 15:12:05   \n",
              "2  Halo is part of one of America's most elite se... 2019-03-11 10:00:07   \n",
              "3  Can’t decide if you’re a cat lover or want a d... 2019-03-11 03:30:07   \n",
              "4  We can’t get enough of this happy, cute face! ... 2019-03-10 07:00:06   \n",
              "\n",
              "                       Source  Length  No_Retweets  Likes Count  \\\n",
              "0          Twitter Web Client     140            4           16   \n",
              "1  Salesforce - Social Studio     140            0            4   \n",
              "2  Salesforce - Social Studio     140            3           11   \n",
              "3  Salesforce - Social Studio     140            0            2   \n",
              "4  Salesforce - Social Studio     124            1            3   \n",
              "\n",
              "   Compound score  Positive  Neutral  Negative  \n",
              "0          0.0000     0.000    1.000     0.000  \n",
              "1          0.8586     0.322    0.678     0.000  \n",
              "2          0.6486     0.285    0.610     0.105  \n",
              "3          0.5106     0.242    0.679     0.079  \n",
              "4          0.9192     0.401    0.599     0.000  "
            ]
          },
          "metadata": {
            "tags": []
          },
          "execution_count": 29
        }
      ]
    },
    {
      "metadata": {
        "id": "Jv2pFJBqHh1C",
        "colab_type": "code",
        "colab": {}
      },
      "cell_type": "code",
      "source": [
        "# Word cloud\n",
        "import pandas as pd \n",
        "from wordcloud import WordCloud, STOPWORDS\n",
        "import matplotlib.pyplot as plt"
      ],
      "execution_count": 0,
      "outputs": []
    },
    {
      "metadata": {
        "id": "ZQpVqccmHh3q",
        "colab_type": "code",
        "colab": {}
      },
      "cell_type": "code",
      "source": [
        "comment_words = ' ' #We will be appending the words to this var\n",
        "stopwords = set(STOPWORDS) #Finds all stop words in the set of tweets.\n",
        "for val in twitter_df.Tweet:\n",
        "   val = str(val) #convert all tweet content into strings\n",
        "   tokens = val.split() #Split all strings into individual components\n",
        "   for i in range(len(tokens)):\n",
        "      tokens[i] = tokens[i].lower() #Converts all the individual strings to lower case.\n",
        "for words in tokens:\n",
        "   comment_words = comment_words + words + ' '"
      ],
      "execution_count": 0,
      "outputs": []
    },
    {
      "metadata": {
        "id": "qH3DYdn0Hh6G",
        "colab_type": "code",
        "colab": {}
      },
      "cell_type": "code",
      "source": [
        "wordcloud=WordCloud(width=1000,height=1000, background_color='blue', stopwords=stopwords,min_font_size=10).generate(comment_words)\n",
        "#All of this is a single line"
      ],
      "execution_count": 0,
      "outputs": []
    },
    {
      "metadata": {
        "id": "UrDGXkvQkyLy",
        "colab_type": "code",
        "colab": {
          "base_uri": "https://localhost:8080/",
          "height": 744
        },
        "outputId": "461f07c3-775f-4a2d-c870-16de78d58040"
      },
      "cell_type": "code",
      "source": [
        "plt.figure(figsize=(10,10),facecolor=None)\n",
        "plt.imshow(wordcloud)\n",
        "plt.axis(\"off\")\n",
        "plt.tight_layout(pad=0)\n",
        "plt.show()"
      ],
      "execution_count": 34,
      "outputs": [
        {
          "output_type": "display_data",
          "data": {
            "image/png": "[encoded data removed]",
            "text/plain": [
              "<Figure size 720x720 with 1 Axes>"
            ]
          },
          "metadata": {
            "tags": []
          }
        }
      ]
    },
    {
      "metadata": {
        "id": "YQisFkE0LCOo",
        "colab_type": "code",
        "colab": {
          "base_uri": "https://localhost:8080/",
          "height": 197
        },
        "outputId": "f88508a0-0f5d-491e-cb61-56a91b192804"
      },
      "cell_type": "code",
      "source": [
        "\n",
        "\n",
        "twitter_df.tail()"
      ],
      "execution_count": 35,
      "outputs": [
        {
          "output_type": "execute_result",
          "data": {
            "text/html": [
              "<div>\n",
              "<style scoped>\n",
              "    .dataframe tbody tr th:only-of-type {\n",
              "        vertical-align: middle;\n",
              "    }\n",
              "\n",
              "    .dataframe tbody tr th {\n",
              "        vertical-align: top;\n",
              "    }\n",
              "\n",
              "    .dataframe thead th {\n",
              "        text-align: right;\n",
              "    }\n",
              "</style>\n",
              "<table border=\"1\" class=\"dataframe\">\n",
              "  <thead>\n",
              "    <tr style=\"text-align: right;\">\n",
              "      <th></th>\n",
              "      <th>Tweet</th>\n",
              "      <th>Date</th>\n",
              "      <th>Source</th>\n",
              "      <th>Length</th>\n",
              "      <th>No_Retweets</th>\n",
              "      <th>Likes Count</th>\n",
              "      <th>Compound score</th>\n",
              "      <th>Positive</th>\n",
              "      <th>Neutral</th>\n",
              "      <th>Negative</th>\n",
              "    </tr>\n",
              "  </thead>\n",
              "  <tbody>\n",
              "    <tr>\n",
              "      <th>190</th>\n",
              "      <td>Quick workout before breakfast? There are many...</td>\n",
              "      <td>2018-02-27 10:50:11</td>\n",
              "      <td>Hootsuite</td>\n",
              "      <td>140</td>\n",
              "      <td>0</td>\n",
              "      <td>1</td>\n",
              "      <td>0.6597</td>\n",
              "      <td>0.213</td>\n",
              "      <td>0.787</td>\n",
              "      <td>0.000</td>\n",
              "    </tr>\n",
              "    <tr>\n",
              "      <th>191</th>\n",
              "      <td>What makes dog and cat owners different? Lots!...</td>\n",
              "      <td>2018-02-26 11:20:16</td>\n",
              "      <td>Hootsuite</td>\n",
              "      <td>121</td>\n",
              "      <td>0</td>\n",
              "      <td>5</td>\n",
              "      <td>0.7371</td>\n",
              "      <td>0.225</td>\n",
              "      <td>0.775</td>\n",
              "      <td>0.000</td>\n",
              "    </tr>\n",
              "    <tr>\n",
              "      <th>192</th>\n",
              "      <td>Hard to resist? Keeping your pet happy doesn't...</td>\n",
              "      <td>2018-02-26 10:42:33</td>\n",
              "      <td>Hootsuite</td>\n",
              "      <td>139</td>\n",
              "      <td>0</td>\n",
              "      <td>1</td>\n",
              "      <td>0.2732</td>\n",
              "      <td>0.136</td>\n",
              "      <td>0.733</td>\n",
              "      <td>0.132</td>\n",
              "    </tr>\n",
              "    <tr>\n",
              "      <th>193</th>\n",
              "      <td>No matter how many tricks they try, they shoul...</td>\n",
              "      <td>2018-02-21 14:24:19</td>\n",
              "      <td>Twitter Web Client</td>\n",
              "      <td>139</td>\n",
              "      <td>0</td>\n",
              "      <td>2</td>\n",
              "      <td>-0.5938</td>\n",
              "      <td>0.042</td>\n",
              "      <td>0.729</td>\n",
              "      <td>0.229</td>\n",
              "    </tr>\n",
              "    <tr>\n",
              "      <th>194</th>\n",
              "      <td>Sometimes you need to keep those treats at arm...</td>\n",
              "      <td>2018-02-21 14:21:08</td>\n",
              "      <td>Twitter Web Client</td>\n",
              "      <td>140</td>\n",
              "      <td>0</td>\n",
              "      <td>2</td>\n",
              "      <td>-0.2975</td>\n",
              "      <td>0.000</td>\n",
              "      <td>0.901</td>\n",
              "      <td>0.099</td>\n",
              "    </tr>\n",
              "  </tbody>\n",
              "</table>\n",
              "</div>"
            ],
            "text/plain": [
              "                                                 Tweet                Date  \\\n",
              "190  Quick workout before breakfast? There are many... 2018-02-27 10:50:11   \n",
              "191  What makes dog and cat owners different? Lots!... 2018-02-26 11:20:16   \n",
              "192  Hard to resist? Keeping your pet happy doesn't... 2018-02-26 10:42:33   \n",
              "193  No matter how many tricks they try, they shoul... 2018-02-21 14:24:19   \n",
              "194  Sometimes you need to keep those treats at arm... 2018-02-21 14:21:08   \n",
              "\n",
              "                 Source  Length  No_Retweets  Likes Count  Compound score  \\\n",
              "190           Hootsuite     140            0            1          0.6597   \n",
              "191           Hootsuite     121            0            5          0.7371   \n",
              "192           Hootsuite     139            0            1          0.2732   \n",
              "193  Twitter Web Client     139            0            2         -0.5938   \n",
              "194  Twitter Web Client     140            0            2         -0.2975   \n",
              "\n",
              "     Positive  Neutral  Negative  \n",
              "190     0.213    0.787     0.000  \n",
              "191     0.225    0.775     0.000  \n",
              "192     0.136    0.733     0.132  \n",
              "193     0.042    0.729     0.229  \n",
              "194     0.000    0.901     0.099  "
            ]
          },
          "metadata": {
            "tags": []
          },
          "execution_count": 35
        }
      ]
    },
    {
      "metadata": {
        "id": "H5F7XpvTLUce",
        "colab_type": "code",
        "colab": {
          "base_uri": "https://localhost:8080/",
          "height": 197
        },
        "outputId": "793e2ea7-f88d-4c63-b0c3-e16af9a582ca"
      },
      "cell_type": "code",
      "source": [
        "# High focussed comments, negative\n",
        "Negative_Comments = twitter_df[ twitter_df['Compound score']< -0.2]\n",
        "Negative_Comments.head()"
      ],
      "execution_count": 40,
      "outputs": [
        {
          "output_type": "execute_result",
          "data": {
            "text/html": [
              "<div>\n",
              "<style scoped>\n",
              "    .dataframe tbody tr th:only-of-type {\n",
              "        vertical-align: middle;\n",
              "    }\n",
              "\n",
              "    .dataframe tbody tr th {\n",
              "        vertical-align: top;\n",
              "    }\n",
              "\n",
              "    .dataframe thead th {\n",
              "        text-align: right;\n",
              "    }\n",
              "</style>\n",
              "<table border=\"1\" class=\"dataframe\">\n",
              "  <thead>\n",
              "    <tr style=\"text-align: right;\">\n",
              "      <th></th>\n",
              "      <th>Tweet</th>\n",
              "      <th>Date</th>\n",
              "      <th>Source</th>\n",
              "      <th>Length</th>\n",
              "      <th>No_Retweets</th>\n",
              "      <th>Likes Count</th>\n",
              "      <th>Compound score</th>\n",
              "      <th>Positive</th>\n",
              "      <th>Neutral</th>\n",
              "      <th>Negative</th>\n",
              "    </tr>\n",
              "  </thead>\n",
              "  <tbody>\n",
              "    <tr>\n",
              "      <th>34</th>\n",
              "      <td>The worldwide prevalence of pet obesity lies b...</td>\n",
              "      <td>2019-02-19 13:07:02</td>\n",
              "      <td>Salesforce - Social Studio</td>\n",
              "      <td>140</td>\n",
              "      <td>0</td>\n",
              "      <td>4</td>\n",
              "      <td>-0.4215</td>\n",
              "      <td>0.0</td>\n",
              "      <td>0.882</td>\n",
              "      <td>0.118</td>\n",
              "    </tr>\n",
              "    <tr>\n",
              "      <th>38</th>\n",
              "      <td>RT @waltham_science: Gender discrimination. Th...</td>\n",
              "      <td>2019-02-15 14:03:55</td>\n",
              "      <td>Twitter Web Client</td>\n",
              "      <td>140</td>\n",
              "      <td>63</td>\n",
              "      <td>0</td>\n",
              "      <td>-0.6705</td>\n",
              "      <td>0.0</td>\n",
              "      <td>0.744</td>\n",
              "      <td>0.256</td>\n",
              "    </tr>\n",
              "    <tr>\n",
              "      <th>44</th>\n",
              "      <td>Since Tony &amp;amp; Tipper began patrolling in Ke...</td>\n",
              "      <td>2019-02-08 14:07:05</td>\n",
              "      <td>Salesforce - Social Studio</td>\n",
              "      <td>144</td>\n",
              "      <td>3</td>\n",
              "      <td>17</td>\n",
              "      <td>-0.3400</td>\n",
              "      <td>0.0</td>\n",
              "      <td>0.902</td>\n",
              "      <td>0.098</td>\n",
              "    </tr>\n",
              "    <tr>\n",
              "      <th>62</th>\n",
              "      <td>New research from @waltham_science and @LivUni...</td>\n",
              "      <td>2019-01-29 11:23:05</td>\n",
              "      <td>Salesforce - Social Studio</td>\n",
              "      <td>139</td>\n",
              "      <td>0</td>\n",
              "      <td>7</td>\n",
              "      <td>-0.3612</td>\n",
              "      <td>0.0</td>\n",
              "      <td>0.872</td>\n",
              "      <td>0.128</td>\n",
              "    </tr>\n",
              "    <tr>\n",
              "      <th>76</th>\n",
              "      <td>We know how to keep #BlueMonday at bay: your p...</td>\n",
              "      <td>2019-01-21 11:03:06</td>\n",
              "      <td>Salesforce - Social Studio</td>\n",
              "      <td>140</td>\n",
              "      <td>3</td>\n",
              "      <td>17</td>\n",
              "      <td>-0.3802</td>\n",
              "      <td>0.1</td>\n",
              "      <td>0.704</td>\n",
              "      <td>0.196</td>\n",
              "    </tr>\n",
              "  </tbody>\n",
              "</table>\n",
              "</div>"
            ],
            "text/plain": [
              "                                                Tweet                Date  \\\n",
              "34  The worldwide prevalence of pet obesity lies b... 2019-02-19 13:07:02   \n",
              "38  RT @waltham_science: Gender discrimination. Th... 2019-02-15 14:03:55   \n",
              "44  Since Tony &amp; Tipper began patrolling in Ke... 2019-02-08 14:07:05   \n",
              "62  New research from @waltham_science and @LivUni... 2019-01-29 11:23:05   \n",
              "76  We know how to keep #BlueMonday at bay: your p... 2019-01-21 11:03:06   \n",
              "\n",
              "                        Source  Length  No_Retweets  Likes Count  \\\n",
              "34  Salesforce - Social Studio     140            0            4   \n",
              "38          Twitter Web Client     140           63            0   \n",
              "44  Salesforce - Social Studio     144            3           17   \n",
              "62  Salesforce - Social Studio     139            0            7   \n",
              "76  Salesforce - Social Studio     140            3           17   \n",
              "\n",
              "    Compound score  Positive  Neutral  Negative  \n",
              "34         -0.4215       0.0    0.882     0.118  \n",
              "38         -0.6705       0.0    0.744     0.256  \n",
              "44         -0.3400       0.0    0.902     0.098  \n",
              "62         -0.3612       0.0    0.872     0.128  \n",
              "76         -0.3802       0.1    0.704     0.196  "
            ]
          },
          "metadata": {
            "tags": []
          },
          "execution_count": 40
        }
      ]
    },
    {
      "metadata": {
        "id": "i4h8DS0-LsnZ",
        "colab_type": "code",
        "colab": {
          "base_uri": "https://localhost:8080/",
          "height": 34
        },
        "outputId": "5eda4564-cef9-484e-c0cf-c99384e52ffb"
      },
      "cell_type": "code",
      "source": [
        "Negative_Comments.shape"
      ],
      "execution_count": 41,
      "outputs": [
        {
          "output_type": "execute_result",
          "data": {
            "text/plain": [
              "(17, 10)"
            ]
          },
          "metadata": {
            "tags": []
          },
          "execution_count": 41
        }
      ]
    },
    {
      "metadata": {
        "id": "qrnTYJpOMGcy",
        "colab_type": "code",
        "colab": {
          "base_uri": "https://localhost:8080/",
          "height": 336
        },
        "outputId": "21a15a56-777f-42c3-9373-f4ee712ff276"
      },
      "cell_type": "code",
      "source": [
        "Negative_Comments['Tweet']"
      ],
      "execution_count": 47,
      "outputs": [
        {
          "output_type": "execute_result",
          "data": {
            "text/plain": [
              "34     The worldwide prevalence of pet obesity lies b...\n",
              "38     RT @waltham_science: Gender discrimination. Th...\n",
              "44     Since Tony &amp; Tipper began patrolling in Ke...\n",
              "62     New research from @waltham_science and @LivUni...\n",
              "76     We know how to keep #BlueMonday at bay: your p...\n",
              "78     Being a student is never easy - we're proud to...\n",
              "111    Looks can be deceiving! Ever wondered why it’s...\n",
              "115    How is #tech transforming #petcare ? Look no f...\n",
              "136    Have you ever wished you could take your dog m...\n",
              "141    It ain't easy being green... Read about how th...\n",
              "153    Our @marspetcare Associates around the world h...\n",
              "165    What is it about a dog that can make the growi...\n",
              "168    Want to know the real reason cats don't have d...\n",
              "175    Portion precision is key to battling the bulge...\n",
              "180    @MarsGlobal @AnicuraPets @anicurapets is the w...\n",
              "193    No matter how many tricks they try, they shoul...\n",
              "194    Sometimes you need to keep those treats at arm...\n",
              "Name: Tweet, dtype: object"
            ]
          },
          "metadata": {
            "tags": []
          },
          "execution_count": 47
        }
      ]
    },
    {
      "metadata": {
        "id": "HLB46vAAMUU6",
        "colab_type": "code",
        "colab": {}
      },
      "cell_type": "code",
      "source": [
        "# Word Cloud for -ve word cloud\n",
        "Comment_words = ' ' #We will be appending the words to this var\n",
        "stopwords = set(STOPWORDS) #Finds all stop words in the set of tweets.\n",
        "for val in Negative_Comments.Tweet:\n",
        "   val = str(val) #convert all tweet content into strings\n",
        "   tokens = val.split() #Split all strings into individual components\n",
        "   for i in range(len(tokens)):\n",
        "      tokens[i] = tokens[i].lower() #Converts all the individual strings to lower case.\n",
        "for words in tokens:\n",
        "   comment_words = comment_words + words + ' '"
      ],
      "execution_count": 0,
      "outputs": []
    },
    {
      "metadata": {
        "id": "Y10Fvr8OM78T",
        "colab_type": "code",
        "colab": {}
      },
      "cell_type": "code",
      "source": [
        "wordcloud=WordCloud(width=1000,height=1000, background_color='blue', stopwords=stopwords,min_font_size=10).generate(comment_words)\n",
        "#All of this is a single line"
      ],
      "execution_count": 0,
      "outputs": []
    },
    {
      "metadata": {
        "id": "SDsrZJx5M8Bh",
        "colab_type": "code",
        "colab": {}
      },
      "cell_type": "code",
      "source": [
        "plt.figure(figsize=(10,10),facecolor=None)\n",
        "plt.imshow(wordcloud)\n",
        "plt.axis(\"off\")\n",
        "plt.tight_layout(pad=0)\n",
        "plt.show()"
      ],
      "execution_count": 0,
      "outputs": []
    },
    {
      "metadata": {
        "id": "nPwdJ7cmYAmm",
        "colab_type": "code",
        "colab": {}
      },
      "cell_type": "code",
      "source": [
        "from google.colab import drive\n",
        "drive.mount('/content/gdrive')"
      ],
      "execution_count": 0,
      "outputs": []
    },
    {
      "metadata": {
        "id": "z85f33j_YZAF",
        "colab_type": "code",
        "colab": {}
      },
      "cell_type": "code",
      "source": [
        ""
      ],
      "execution_count": 0,
      "outputs": []
    }
  ]
}